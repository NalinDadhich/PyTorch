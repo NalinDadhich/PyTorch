{
 "cells": [
  {
   "cell_type": "markdown",
   "metadata": {},
   "source": [
    "# Inference and Validation\n",
    "\n",
    "Now that you have a trained network, you can use it for making predictions. This is typically called **inference**, a term borrowed from statistics. However, neural networks have a tendency to perform *too well* on the training data and aren't able to generalize to data that hasn't been seen before. This is called **overfitting** and it impairs inference performance. To test for overfitting while training, we measure the performance on data not in the training set called the **validation** set. We avoid overfitting through regularization such as dropout while monitoring the validation performance during training. In this notebook, I'll show you how to do this in PyTorch. \n",
    "\n",
    "As usual, let's start by loading the dataset through torchvision. You'll learn more about torchvision and loading data in a later part. This time we'll be taking advantage of the test set which you can get by setting `train=False` here:\n",
    "\n",
    "```python\n",
    "testset = datasets.FashionMNIST('~/.pytorch/F_MNIST_data/', download=True, train=False, transform=transform)\n",
    "```\n",
    "\n",
    "The test set contains images just like the training set. Typically you'll see 10-20% of the original dataset held out for testing and validation with the rest being used for training."
   ]
  },
  {
   "cell_type": "code",
   "execution_count": 1,
   "metadata": {},
   "outputs": [],
   "source": [
    "import torch\n",
    "from torchvision import datasets, transforms\n",
    "\n",
    "# Define a transform to normalize the data\n",
    "transform = transforms.Compose([transforms.ToTensor(),\n",
    "                                transforms.Normalize((0.5,), (0.5,))])\n",
    "# Download and load the training data\n",
    "trainset = datasets.FashionMNIST('~/.pytorch/F_MNIST_data/', download=True, train=True, transform=transform)\n",
    "trainloader = torch.utils.data.DataLoader(trainset, batch_size=64, shuffle=True)\n",
    "\n",
    "# Download and load the test data\n",
    "testset = datasets.FashionMNIST('~/.pytorch/F_MNIST_data/', download=True, train=False, transform=transform)\n",
    "testloader = torch.utils.data.DataLoader(testset, batch_size=64, shuffle=True)"
   ]
  },
  {
   "cell_type": "markdown",
   "metadata": {},
   "source": [
    "Here I'll create a model like normal, using the same one from my solution for part 4."
   ]
  },
  {
   "cell_type": "code",
   "execution_count": 2,
   "metadata": {},
   "outputs": [],
   "source": [
    "from torch import nn, optim\n",
    "import torch.nn.functional as F\n",
    "\n",
    "class Classifier(nn.Module):\n",
    "    def __init__(self):\n",
    "        super().__init__()\n",
    "        self.fc1 = nn.Linear(784, 256)\n",
    "        self.fc2 = nn.Linear(256, 128)\n",
    "        self.fc3 = nn.Linear(128, 64)\n",
    "        self.fc4 = nn.Linear(64, 10)\n",
    "        \n",
    "    def forward(self, x):\n",
    "        # make sure input tensor is flattened\n",
    "        x = x.view(x.shape[0], -1)\n",
    "        \n",
    "        x = F.relu(self.fc1(x))\n",
    "        x = F.relu(self.fc2(x))\n",
    "        x = F.relu(self.fc3(x))\n",
    "        x = F.log_softmax(self.fc4(x), dim=1)\n",
    "        \n",
    "        return x"
   ]
  },
  {
   "cell_type": "markdown",
   "metadata": {},
   "source": [
    "The goal of validation is to measure the model's performance on data that isn't part of the training set. Performance here is up to the developer to define though. Typically this is just accuracy, the percentage of classes the network predicted correctly. Other options are [precision and recall](https://en.wikipedia.org/wiki/Precision_and_recall#Definition_(classification_context)) and top-5 error rate. We'll focus on accuracy here. First I'll do a forward pass with one batch from the test set."
   ]
  },
  {
   "cell_type": "code",
   "execution_count": 4,
   "metadata": {},
   "outputs": [
    {
     "name": "stdout",
     "output_type": "stream",
     "text": [
      "torch.Size([64, 10])\n",
      "tensor([[0.1031, 0.1025, 0.0985, 0.0982, 0.0931, 0.0886, 0.1033, 0.1114, 0.1030,\n",
      "         0.0982],\n",
      "        [0.0988, 0.1025, 0.0990, 0.0941, 0.0943, 0.0892, 0.1071, 0.1110, 0.1048,\n",
      "         0.0993],\n",
      "        [0.1018, 0.1052, 0.0971, 0.0987, 0.0937, 0.0855, 0.1061, 0.1107, 0.1064,\n",
      "         0.0948],\n",
      "        [0.1006, 0.1057, 0.0936, 0.0983, 0.0920, 0.0860, 0.1066, 0.1111, 0.1071,\n",
      "         0.0990],\n",
      "        [0.1000, 0.1043, 0.0962, 0.0989, 0.0951, 0.0869, 0.1055, 0.1073, 0.1072,\n",
      "         0.0985],\n",
      "        [0.1000, 0.1043, 0.0996, 0.0985, 0.0947, 0.0879, 0.1040, 0.1091, 0.1057,\n",
      "         0.0964],\n",
      "        [0.1017, 0.1062, 0.0958, 0.0970, 0.0959, 0.0853, 0.1054, 0.1096, 0.1067,\n",
      "         0.0964],\n",
      "        [0.1003, 0.1064, 0.0970, 0.0977, 0.0957, 0.0861, 0.1041, 0.1083, 0.1074,\n",
      "         0.0970],\n",
      "        [0.1016, 0.1078, 0.0976, 0.0958, 0.0955, 0.0848, 0.1045, 0.1101, 0.1043,\n",
      "         0.0980],\n",
      "        [0.1035, 0.1054, 0.0963, 0.0975, 0.0955, 0.0843, 0.1048, 0.1104, 0.1060,\n",
      "         0.0962],\n",
      "        [0.0989, 0.1029, 0.0970, 0.0987, 0.0937, 0.0879, 0.1017, 0.1116, 0.1065,\n",
      "         0.1011],\n",
      "        [0.1005, 0.1053, 0.0981, 0.0967, 0.0973, 0.0871, 0.1051, 0.1084, 0.1050,\n",
      "         0.0966],\n",
      "        [0.1024, 0.1061, 0.0961, 0.0983, 0.0948, 0.0840, 0.1053, 0.1109, 0.1069,\n",
      "         0.0953],\n",
      "        [0.0999, 0.1049, 0.0992, 0.0946, 0.0958, 0.0863, 0.1029, 0.1142, 0.1057,\n",
      "         0.0966],\n",
      "        [0.0978, 0.1018, 0.0969, 0.0958, 0.0951, 0.0886, 0.1074, 0.1096, 0.1089,\n",
      "         0.0982],\n",
      "        [0.1005, 0.1055, 0.0999, 0.0960, 0.0933, 0.0874, 0.1027, 0.1102, 0.1050,\n",
      "         0.0995],\n",
      "        [0.1011, 0.1065, 0.0974, 0.0985, 0.0948, 0.0849, 0.1041, 0.1099, 0.1054,\n",
      "         0.0974],\n",
      "        [0.1024, 0.1035, 0.0997, 0.0989, 0.0916, 0.0878, 0.1045, 0.1133, 0.1038,\n",
      "         0.0946],\n",
      "        [0.1022, 0.1048, 0.1004, 0.0948, 0.0927, 0.0875, 0.1025, 0.1126, 0.1035,\n",
      "         0.0990],\n",
      "        [0.1016, 0.1081, 0.0977, 0.0960, 0.0957, 0.0851, 0.1031, 0.1107, 0.1042,\n",
      "         0.0979],\n",
      "        [0.1005, 0.1063, 0.0976, 0.0952, 0.0953, 0.0850, 0.1047, 0.1120, 0.1058,\n",
      "         0.0976],\n",
      "        [0.1019, 0.1052, 0.0982, 0.0972, 0.0979, 0.0860, 0.1037, 0.1090, 0.1051,\n",
      "         0.0959],\n",
      "        [0.1018, 0.1057, 0.0979, 0.0961, 0.0958, 0.0872, 0.1046, 0.1092, 0.1044,\n",
      "         0.0973],\n",
      "        [0.1024, 0.1058, 0.0953, 0.0986, 0.0948, 0.0854, 0.1055, 0.1115, 0.1066,\n",
      "         0.0941],\n",
      "        [0.1011, 0.1036, 0.0993, 0.0952, 0.0926, 0.0875, 0.1032, 0.1123, 0.1047,\n",
      "         0.1004],\n",
      "        [0.0984, 0.1029, 0.0970, 0.0964, 0.0953, 0.0881, 0.1051, 0.1106, 0.1068,\n",
      "         0.0994],\n",
      "        [0.0999, 0.1034, 0.1004, 0.0969, 0.0947, 0.0878, 0.1026, 0.1108, 0.1055,\n",
      "         0.0980],\n",
      "        [0.1008, 0.1015, 0.0969, 0.0978, 0.0944, 0.0874, 0.1087, 0.1079, 0.1080,\n",
      "         0.0968],\n",
      "        [0.0989, 0.1033, 0.0979, 0.0939, 0.0935, 0.0886, 0.1053, 0.1104, 0.1062,\n",
      "         0.1020],\n",
      "        [0.1024, 0.1014, 0.0978, 0.0983, 0.0925, 0.0869, 0.1082, 0.1094, 0.1062,\n",
      "         0.0968],\n",
      "        [0.1016, 0.1014, 0.0973, 0.0980, 0.0931, 0.0862, 0.1089, 0.1096, 0.1077,\n",
      "         0.0962],\n",
      "        [0.1020, 0.1081, 0.0978, 0.0958, 0.0960, 0.0859, 0.1029, 0.1084, 0.1044,\n",
      "         0.0987],\n",
      "        [0.1020, 0.1041, 0.1001, 0.0961, 0.0949, 0.0887, 0.1036, 0.1095, 0.1038,\n",
      "         0.0972],\n",
      "        [0.1026, 0.1063, 0.1004, 0.0988, 0.0908, 0.0871, 0.1023, 0.1112, 0.1025,\n",
      "         0.0980],\n",
      "        [0.1001, 0.1032, 0.0996, 0.0960, 0.0953, 0.0871, 0.1048, 0.1104, 0.1072,\n",
      "         0.0964],\n",
      "        [0.1035, 0.1064, 0.0972, 0.0975, 0.0961, 0.0843, 0.1035, 0.1109, 0.1038,\n",
      "         0.0968],\n",
      "        [0.1009, 0.1020, 0.0998, 0.0979, 0.0930, 0.0881, 0.1042, 0.1106, 0.1060,\n",
      "         0.0975],\n",
      "        [0.0993, 0.1035, 0.0990, 0.0958, 0.0956, 0.0878, 0.1057, 0.1079, 0.1062,\n",
      "         0.0990],\n",
      "        [0.1028, 0.1055, 0.0970, 0.0981, 0.0957, 0.0850, 0.1044, 0.1111, 0.1052,\n",
      "         0.0954],\n",
      "        [0.1004, 0.1051, 0.0976, 0.0963, 0.0978, 0.0873, 0.1049, 0.1087, 0.1056,\n",
      "         0.0963],\n",
      "        [0.1016, 0.1052, 0.0986, 0.0953, 0.0923, 0.0876, 0.1034, 0.1119, 0.1034,\n",
      "         0.1006],\n",
      "        [0.1004, 0.1071, 0.0963, 0.0963, 0.0976, 0.0863, 0.1031, 0.1101, 0.1057,\n",
      "         0.0971],\n",
      "        [0.1017, 0.1032, 0.1006, 0.0956, 0.0943, 0.0884, 0.1050, 0.1091, 0.1049,\n",
      "         0.0971],\n",
      "        [0.1032, 0.1049, 0.0977, 0.0980, 0.0964, 0.0846, 0.1039, 0.1118, 0.1052,\n",
      "         0.0944],\n",
      "        [0.1022, 0.1049, 0.0997, 0.0965, 0.0927, 0.0883, 0.1010, 0.1130, 0.1030,\n",
      "         0.0986],\n",
      "        [0.1021, 0.1026, 0.1007, 0.0952, 0.0928, 0.0884, 0.1035, 0.1138, 0.1024,\n",
      "         0.0986],\n",
      "        [0.1018, 0.1035, 0.0994, 0.0998, 0.0930, 0.0866, 0.1036, 0.1123, 0.1043,\n",
      "         0.0956],\n",
      "        [0.0993, 0.1052, 0.0984, 0.0962, 0.0927, 0.0872, 0.1036, 0.1121, 0.1058,\n",
      "         0.0995],\n",
      "        [0.1015, 0.1053, 0.0993, 0.0970, 0.0932, 0.0879, 0.1011, 0.1111, 0.1043,\n",
      "         0.0993],\n",
      "        [0.1013, 0.1061, 0.0966, 0.0985, 0.0961, 0.0852, 0.1036, 0.1094, 0.1062,\n",
      "         0.0970],\n",
      "        [0.1017, 0.1027, 0.0980, 0.0970, 0.0946, 0.0880, 0.1067, 0.1089, 0.1060,\n",
      "         0.0964],\n",
      "        [0.0997, 0.1042, 0.0999, 0.0983, 0.0961, 0.0875, 0.1046, 0.1071, 0.1058,\n",
      "         0.0967],\n",
      "        [0.1041, 0.1072, 0.0975, 0.0979, 0.0952, 0.0831, 0.1029, 0.1125, 0.1039,\n",
      "         0.0955],\n",
      "        [0.1021, 0.1058, 0.0970, 0.0983, 0.0967, 0.0845, 0.1038, 0.1105, 0.1059,\n",
      "         0.0955],\n",
      "        [0.1020, 0.1052, 0.0966, 0.0992, 0.0938, 0.0843, 0.1064, 0.1106, 0.1078,\n",
      "         0.0941],\n",
      "        [0.1005, 0.1050, 0.0972, 0.0957, 0.0956, 0.0879, 0.1049, 0.1107, 0.1043,\n",
      "         0.0982],\n",
      "        [0.1015, 0.1040, 0.0999, 0.0954, 0.0946, 0.0875, 0.1059, 0.1095, 0.1051,\n",
      "         0.0966],\n",
      "        [0.1017, 0.1030, 0.0996, 0.0968, 0.0940, 0.0891, 0.1039, 0.1111, 0.1035,\n",
      "         0.0971],\n",
      "        [0.1005, 0.1022, 0.0984, 0.0977, 0.0945, 0.0877, 0.1073, 0.1084, 0.1067,\n",
      "         0.0965],\n",
      "        [0.1005, 0.1045, 0.0989, 0.0980, 0.0956, 0.0870, 0.1052, 0.1081, 0.1056,\n",
      "         0.0967],\n",
      "        [0.1001, 0.1057, 0.0984, 0.0973, 0.0970, 0.0861, 0.1039, 0.1090, 0.1053,\n",
      "         0.0973],\n",
      "        [0.1024, 0.1030, 0.0975, 0.0966, 0.0951, 0.0882, 0.1066, 0.1091, 0.1050,\n",
      "         0.0965],\n",
      "        [0.1010, 0.1033, 0.0972, 0.0983, 0.0941, 0.0870, 0.1068, 0.1098, 0.1066,\n",
      "         0.0959],\n",
      "        [0.1005, 0.1064, 0.0953, 0.0977, 0.0961, 0.0846, 0.1047, 0.1095, 0.1069,\n",
      "         0.0983]], grad_fn=<ExpBackward>)\n"
     ]
    }
   ],
   "source": [
    "model = Classifier()\n",
    "\n",
    "images, labels = next(iter(testloader))\n",
    "# Get the class probabilities\n",
    "ps = torch.exp(model(images))\n",
    "# Make sure the shape is appropriate, we should get 10 class probabilities for 64 examples\n",
    "print(ps.shape)"
   ]
  },
  {
   "cell_type": "markdown",
   "metadata": {},
   "source": [
    "With the probabilities, we can get the most likely class using the `ps.topk` method. This returns the $k$ highest values. Since we just want the most likely class, we can use `ps.topk(1)`. This returns a tuple of the top-$k$ values and the top-$k$ indices. If the highest value is the fifth element, we'll get back 4 as the index."
   ]
  },
  {
   "cell_type": "code",
   "execution_count": 5,
   "metadata": {},
   "outputs": [
    {
     "name": "stdout",
     "output_type": "stream",
     "text": [
      "tensor([[7],\n",
      "        [7],\n",
      "        [7],\n",
      "        [7],\n",
      "        [7],\n",
      "        [7],\n",
      "        [7],\n",
      "        [7],\n",
      "        [7],\n",
      "        [7]])\n"
     ]
    }
   ],
   "source": [
    "top_p, top_class = ps.topk(1, dim=1)\n",
    "# Look at the most likely classes for the first 10 examples\n",
    "print(top_class[:10,:])"
   ]
  },
  {
   "cell_type": "markdown",
   "metadata": {},
   "source": [
    "Now we can check if the predicted classes match the labels. This is simple to do by equating `top_class` and `labels`, but we have to be careful of the shapes. Here `top_class` is a 2D tensor with shape `(64, 1)` while `labels` is 1D with shape `(64)`. To get the equality to work out the way we want, `top_class` and `labels` must have the same shape.\n",
    "\n",
    "If we do\n",
    "\n",
    "```python\n",
    "equals = top_class == labels\n",
    "```\n",
    "\n",
    "`equals` will have shape `(64, 64)`, try it yourself. What it's doing is comparing the one element in each row of `top_class` with each element in `labels` which returns 64 True/False boolean values for each row."
   ]
  },
  {
   "cell_type": "code",
   "execution_count": 36,
   "metadata": {},
   "outputs": [],
   "source": [
    "equals = top_class == labels.view(*top_class.shape)"
   ]
  },
  {
   "cell_type": "markdown",
   "metadata": {},
   "source": [
    "Now we need to calculate the percentage of correct predictions. `equals` has binary values, either 0 or 1. This means that if we just sum up all the values and divide by the number of values, we get the percentage of correct predictions. This is the same operation as taking the mean, so we can get the accuracy with a call to `torch.mean`. If only it was that simple. If you try `torch.mean(equals)`, you'll get an error\n",
    "\n",
    "```\n",
    "RuntimeError: mean is not implemented for type torch.ByteTensor\n",
    "```\n",
    "\n",
    "This happens because `equals` has type `torch.ByteTensor` but `torch.mean` isn't implemented for tensors with that type. So we'll need to convert `equals` to a float tensor. Note that when we take `torch.mean` it returns a scalar tensor, to get the actual value as a float we'll need to do `accuracy.item()`."
   ]
  },
  {
   "cell_type": "code",
   "execution_count": 37,
   "metadata": {},
   "outputs": [
    {
     "name": "stdout",
     "output_type": "stream",
     "text": [
      "Accuracy: 12.5%\n"
     ]
    }
   ],
   "source": [
    "accuracy = torch.mean(equals.type(torch.FloatTensor))\n",
    "print(f'Accuracy: {accuracy.item()*100}%')"
   ]
  },
  {
   "cell_type": "markdown",
   "metadata": {},
   "source": [
    "The network is untrained so it's making random guesses and we should see an accuracy around 10%. Now let's train our network and include our validation pass so we can measure how well the network is performing on the test set. Since we're not updating our parameters in the validation pass, we can speed up our code by turning off gradients using `torch.no_grad()`:\n",
    "\n",
    "```python\n",
    "# turn off gradients\n",
    "with torch.no_grad():\n",
    "    # validation pass here\n",
    "    for images, labels in testloader:\n",
    "        ...\n",
    "```\n",
    "\n",
    ">**Exercise:** Implement the validation loop below and print out the total accuracy after the loop. You can largely copy and paste the code from above, but I suggest typing it in because writing it out yourself is essential for building the skill. In general you'll always learn more by typing it rather than copy-pasting. You should be able to get an accuracy above 80%."
   ]
  },
  {
   "cell_type": "code",
   "execution_count": 48,
   "metadata": {},
   "outputs": [
    {
     "name": "stdout",
     "output_type": "stream",
     "text": [
      "Epoch: 1/10  Training Loss: 0.516  Test Loss: 0.485  Accuracy: 82.89 \n",
      "Epoch: 2/10  Training Loss: 0.394  Test Loss: 0.406  Accuracy: 85.46 \n",
      "Epoch: 3/10  Training Loss: 0.357  Test Loss: 0.395  Accuracy: 85.64 \n",
      "Epoch: 4/10  Training Loss: 0.335  Test Loss: 0.380  Accuracy: 86.69 \n",
      "Epoch: 5/10  Training Loss: 0.315  Test Loss: 0.392  Accuracy: 86.48 \n",
      "Epoch: 6/10  Training Loss: 0.301  Test Loss: 0.384  Accuracy: 86.10 \n",
      "Epoch: 7/10  Training Loss: 0.290  Test Loss: 0.376  Accuracy: 86.79 \n",
      "Epoch: 8/10  Training Loss: 0.281  Test Loss: 0.392  Accuracy: 86.89 \n",
      "Epoch: 9/10  Training Loss: 0.272  Test Loss: 0.384  Accuracy: 86.89 \n",
      "Epoch: 10/10  Training Loss: 0.266  Test Loss: 0.392  Accuracy: 86.66 \n"
     ]
    }
   ],
   "source": [
    "model = Classifier()\n",
    "criterion = nn.NLLLoss()\n",
    "optimizer = optim.Adam(model.parameters(), lr=0.003)\n",
    "\n",
    "epochs = 10\n",
    "steps = 0\n",
    "\n",
    "train_losses, test_losses = [], []\n",
    "\n",
    "for e in range(epochs):\n",
    "    running_loss = 0\n",
    "    for images, labels in trainloader:\n",
    "        \n",
    "        optimizer.zero_grad()\n",
    "        \n",
    "        log_ps = model(images)\n",
    "        loss = criterion(log_ps, labels)\n",
    "        loss.backward()\n",
    "        optimizer.step()\n",
    "        \n",
    "        running_loss += loss.item()\n",
    "        \n",
    "    else:\n",
    "        ## TODO: Implement the validation pass and print out the validation accuracy\n",
    "        test_loss = 0\n",
    "        accuracy = 0\n",
    "        with torch.no_grad():\n",
    "            for images, labels in testloader:\n",
    "                output = model(images)\n",
    "                test_loss += criterion(output, labels)\n",
    "                \n",
    "                ps = torch.exp(output)\n",
    "                top_p, top_class = ps.topk(1, dim = 1)\n",
    "                equals = top_class == labels.view(*top_class.shape)\n",
    "                accuracy += torch.mean(equals.type(torch.FloatTensor))\n",
    "        \n",
    "        train_losses.append(running_loss/len(trainloader))\n",
    "        test_losses.append(test_loss/len(testloader))\n",
    "        print(\"Epoch: {}/{} \".format(e+1, epochs),\n",
    "              \"Training Loss: {:.3f} \".format(running_loss/len(trainloader)),\n",
    "              \"Test Loss: {:.3f} \".format(test_loss/len(testloader)),\n",
    "              \"Accuracy: {:.2f} \".format((accuracy/len(testloader))*100))\n"
   ]
  },
  {
   "cell_type": "code",
   "execution_count": 44,
   "metadata": {},
   "outputs": [],
   "source": [
    "%matplotlib inline\n",
    "%config InlineBackend.figure_format = 'retina'\n",
    "\n",
    "import matplotlib.pyplot as plt"
   ]
  },
  {
   "cell_type": "code",
   "execution_count": 46,
   "metadata": {},
   "outputs": [
    {
     "name": "stdout",
     "output_type": "stream",
     "text": [
      "[480.37523621320724, 365.4256530702114, 332.90523704886436, 308.24962324649096, 295.6564543619752, 281.67426609247923, 272.43973702937365, 263.92775186151266, 255.49257491901517, 253.0977103561163, 246.09966108202934, 234.48695768788457, 229.9436991289258, 228.7507108785212, 221.15292156487703, 216.78738500922918, 215.07459097355604, 208.23431571945548, 204.35459791123867, 200.74856412038207, 196.09747021645308, 194.6254144012928, 191.56236891821027, 187.27361353859305, 180.97789650037885, 183.56885251402855, 181.76572551205754, 180.49644769728184, 173.22506137751043, 181.43333168327808]\n"
     ]
    },
    {
     "data": {
      "image/png": "[encoded data removed]",
      "text/plain": [
       "<Figure size 432x288 with 1 Axes>"
      ]
     },
     "metadata": {
      "image/png": {
       "height": 251,
       "width": 377
      },
      "needs_background": "light"
     },
     "output_type": "display_data"
    }
   ],
   "source": [
    "plt.plot(train_losses, label='Training loss')\n",
    "plt.plot(test_losses, label='Validation loss')\n",
    "plt.legend(frameon=False)\n",
    "print(train_losses\n",
    "     )"
   ]
  },
  {
   "cell_type": "markdown",
   "metadata": {},
   "source": [
    "## Overfitting\n",
    "\n",
    "If we look at the training and validation losses as we train the network, we can see a phenomenon known as overfitting.\n",
    "\n",
    "<img src='assets/overfitting.png' width=450px>\n",
    "\n",
    "The network learns the training set better and better, resulting in lower training losses. However, it starts having problems generalizing to data outside the training set leading to the validation loss increasing. The ultimate goal of any deep learning model is to make predictions on new data, so we should strive to get the lowest validation loss possible. One option is to use the version of the model with the lowest validation loss, here the one around 8-10 training epochs. This strategy is called *early-stopping*. In practice, you'd save the model frequently as you're training then later choose the model with the lowest validation loss.\n",
    "\n",
    "The most common method to reduce overfitting (outside of early-stopping) is *dropout*, where we randomly drop input units. This forces the network to share information between weights, increasing it's ability to generalize to new data. Adding dropout in PyTorch is straightforward using the [`nn.Dropout`](https://pytorch.org/docs/stable/nn.html#torch.nn.Dropout) module.\n",
    "\n",
    "```python\n",
    "class Classifier(nn.Module):\n",
    "    def __init__(self):\n",
    "        super().__init__()\n",
    "        self.fc1 = nn.Linear(784, 256)\n",
    "        self.fc2 = nn.Linear(256, 128)\n",
    "        self.fc3 = nn.Linear(128, 64)\n",
    "        self.fc4 = nn.Linear(64, 10)\n",
    "        \n",
    "        # Dropout module with 0.2 drop probability\n",
    "        self.dropout = nn.Dropout(p=0.2)\n",
    "        \n",
    "    def forward(self, x):\n",
    "        # make sure input tensor is flattened\n",
    "        x = x.view(x.shape[0], -1)\n",
    "        \n",
    "        # Now with dropout\n",
    "        x = self.dropout(F.relu(self.fc1(x)))\n",
    "        x = self.dropout(F.relu(self.fc2(x)))\n",
    "        x = self.dropout(F.relu(self.fc3(x)))\n",
    "        \n",
    "        # output so no dropout here\n",
    "        x = F.log_softmax(self.fc4(x), dim=1)\n",
    "        \n",
    "        return x\n",
    "```\n",
    "\n",
    "During training we want to use dropout to prevent overfitting, but during inference we want to use the entire network. So, we need to turn off dropout during validation, testing, and whenever we're using the network to make predictions. To do this, you use `model.eval()`. This sets the model to evaluation mode where the dropout probability is 0. You can turn dropout back on by setting the model to train mode with `model.train()`. In general, the pattern for the validation loop will look like this, where you turn off gradients, set the model to evaluation mode, calculate the validation loss and metric, then set the model back to train mode.\n",
    "\n",
    "```python\n",
    "# turn off gradients\n",
    "with torch.no_grad():\n",
    "    \n",
    "    # set model to evaluation mode\n",
    "    model.eval()\n",
    "    \n",
    "    # validation pass here\n",
    "    for images, labels in testloader:\n",
    "        ...\n",
    "\n",
    "# set model back to train mode\n",
    "model.train()\n",
    "```"
   ]
  },
  {
   "cell_type": "markdown",
   "metadata": {},
   "source": [
    "> **Exercise:** Add dropout to your model and train it on Fashion-MNIST again. See if you can get a lower validation loss or higher accuracy."
   ]
  },
  {
   "cell_type": "code",
   "execution_count": 41,
   "metadata": {},
   "outputs": [],
   "source": [
    "## TODO: Define your model with dropout added\n",
    "import torch\n",
    "from torch import nn, optim\n",
    "import torch.nn.functional as F\n",
    "\n",
    "class Network(nn.Module):\n",
    "    def __init__(self):\n",
    "        super().__init__()\n",
    "        self.fc1 = nn.Linear(784, 256)\n",
    "        self.fc2 = nn.Linear(256, 128)\n",
    "        self.fc3 = nn.Linear(128, 10)\n",
    "        \n",
    "        self.dropout = nn.Dropout(p=0.2)\n",
    "        \n",
    "    def forward(x):\n",
    "        x = self.dropout(F.relu(self.fc1(x)))\n",
    "        x = self.dropout(F.relu(self.fc2(x)))\n",
    "        x = self.dropout(F.relu(self.fc3(x)))\n",
    "        \n",
    "        x = F.log_softmax(self.fc4(x), dim=1)\n",
    "        \n",
    "        return x"
   ]
  },
  {
   "cell_type": "code",
   "execution_count": 42,
   "metadata": {},
   "outputs": [
    {
     "data": {
      "text/plain": [
       "Classifier(\n",
       "  (fc1): Linear(in_features=784, out_features=256, bias=True)\n",
       "  (fc2): Linear(in_features=256, out_features=128, bias=True)\n",
       "  (fc3): Linear(in_features=128, out_features=64, bias=True)\n",
       "  (fc4): Linear(in_features=64, out_features=10, bias=True)\n",
       ")"
      ]
     },
     "execution_count": 42,
     "metadata": {},
     "output_type": "execute_result"
    }
   ],
   "source": [
    "## TODO: Train your model with dropout, and monitor the training progress with the validation loss and accuracy\n",
    "model"
   ]
  },
  {
   "cell_type": "markdown",
   "metadata": {},
   "source": [
    "## Inference\n",
    "\n",
    "Now that the model is trained, we can use it for inference. We've done this before, but now we need to remember to set the model in inference mode with `model.eval()`. You'll also want to turn off autograd with the `torch.no_grad()` context."
   ]
  },
  {
   "cell_type": "code",
   "execution_count": 29,
   "metadata": {},
   "outputs": [
    {
     "data": {
      "image/png": "[encoded data removed]",
      "text/plain": [
       "<Figure size 432x648 with 2 Axes>"
      ]
     },
     "metadata": {
      "image/png": {
       "height": 206,
       "width": 423
      },
      "needs_background": "light"
     },
     "output_type": "display_data"
    }
   ],
   "source": [
    "# Import helper module (should be in the repo)\n",
    "import helper\n",
    "\n",
    "# Test out your network!\n",
    "\n",
    "model.eval()\n",
    "\n",
    "dataiter = iter(testloader)\n",
    "images, labels = dataiter.next()\n",
    "img = images[0]\n",
    "# Convert 2D image to 1D vector\n",
    "img = img.view(1, 784)\n",
    "\n",
    "# Calculate the class probabilities (softmax) for img\n",
    "with torch.no_grad():\n",
    "    output = model.forward(img)\n",
    "\n",
    "ps = torch.exp(output)\n",
    "\n",
    "# Plot the image and probabilities\n",
    "helper.view_classify(img.view(1, 28, 28), ps, version='Fashion')"
   ]
  },
  {
   "cell_type": "markdown",
   "metadata": {},
   "source": [
    "## Next Up!\n",
    "\n",
    "In the next part, I'll show you how to save your trained models. In general, you won't want to train a model everytime you need it. Instead, you'll train once, save it, then load the model when you want to train more or use if for inference."
   ]
  }
 ],
 "metadata": {
  "kernelspec": {
   "display_name": "venv",
   "language": "python",
   "name": "venv"
  },
  "language_info": {
   "codemirror_mode": {
    "name": "ipython",
    "version": 3
   },
   "file_extension": ".py",
   "mimetype": "text/x-python",
   "name": "python",
   "nbconvert_exporter": "python",
   "pygments_lexer": "ipython3",
   "version": "3.6.3"
  }
 },
 "nbformat": 4,
 "nbformat_minor": 2
}
